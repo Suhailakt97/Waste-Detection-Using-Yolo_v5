{
 "cells": [
  {
   "cell_type": "code",
   "execution_count": 6,
   "id": "2e9cf148",
   "metadata": {},
   "outputs": [],
   "source": [
    "import gdown\n"
   ]
  },
  {
   "cell_type": "code",
   "execution_count": 4,
   "id": "f9aa7a5a",
   "metadata": {},
   "outputs": [],
   "source": [
    "import os\n",
    "os.chdir(\"../\")"
   ]
  },
  {
   "cell_type": "code",
   "execution_count": 2,
   "id": "03f00173",
   "metadata": {},
   "outputs": [],
   "source": [
    "url=\"https://drive.google.com/file/d/17x6Pu2UShYHVxt-w67Yz7uZm3xxqAaMW/view?usp=drive_link\""
   ]
  },
  {
   "cell_type": "code",
   "execution_count": 3,
   "id": "6acab79e",
   "metadata": {},
   "outputs": [],
   "source": [
    "file_id = url.split('/')[-2]"
   ]
  },
  {
   "cell_type": "code",
   "execution_count": 7,
   "id": "922ef970",
   "metadata": {},
   "outputs": [
    {
     "name": "stderr",
     "output_type": "stream",
     "text": [
      "Downloading...\n",
      "From (original): https://drive.google.com/uc?/export=download&id=17x6Pu2UShYHVxt-w67Yz7uZm3xxqAaMW\n",
      "From (redirected): https://drive.google.com/uc?%2Fexport=download&id=17x6Pu2UShYHVxt-w67Yz7uZm3xxqAaMW&confirm=t&uuid=7e4f8c47-dfee-478f-801c-451adbee9700\n",
      "To: d:\\Waste-Detection-Using-Yolo_v5\\data\\waste_data.zip\n",
      "100%|██████████| 180M/180M [00:03<00:00, 51.4MB/s] \n"
     ]
    },
    {
     "data": {
      "text/plain": [
       "'data/waste_data.zip'"
      ]
     },
     "execution_count": 7,
     "metadata": {},
     "output_type": "execute_result"
    }
   ],
   "source": [
    "prefix = 'https://drive.google.com/uc?/export=download&id='\n",
    "gdown.download(prefix+file_id, 'data/waste_data.zip')"
   ]
  },
  {
   "cell_type": "code",
   "execution_count": null,
   "id": "27f0e669",
   "metadata": {},
   "outputs": [],
   "source": []
  }
 ],
 "metadata": {
  "kernelspec": {
   "display_name": "waste",
   "language": "python",
   "name": "python3"
  },
  "language_info": {
   "codemirror_mode": {
    "name": "ipython",
    "version": 3
   },
   "file_extension": ".py",
   "mimetype": "text/x-python",
   "name": "python",
   "nbconvert_exporter": "python",
   "pygments_lexer": "ipython3",
   "version": "3.11.13"
  }
 },
 "nbformat": 4,
 "nbformat_minor": 5
}
