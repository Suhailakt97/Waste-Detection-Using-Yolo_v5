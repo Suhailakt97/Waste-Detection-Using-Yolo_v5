{
 "cells": [
  {
   "cell_type": "code",
   "execution_count": null,
   "id": "d8e8410a",
   "metadata": {},
   "outputs": [],
   "source": []
  }
 ],
 "metadata": {
  "kernelspec": {
   "display_name": "waste",
   "language": "python",
   "name": "python3"
  },
  "language_info": {
   "name": "python",
   "version": "3.11.13"
  }
 },
 "nbformat": 4,
 "nbformat_minor": 5
}
